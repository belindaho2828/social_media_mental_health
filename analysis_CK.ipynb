{
 "cells": [
  {
   "cell_type": "code",
   "execution_count": 11,
   "id": "3a025408-3593-41ad-a7f9-4d4f862ed2a0",
   "metadata": {},
   "outputs": [],
   "source": [
    "# Import dependencies\n",
    "import pandas as pd\n",
    "import numpy as np\n",
    "import matplotlib.pyplot as plt\n",
    "from pathlib import Path"
   ]
  },
  {
   "cell_type": "code",
   "execution_count": 12,
   "id": "33de09f3-533b-4aa0-be8a-88952e815aaf",
   "metadata": {},
   "outputs": [],
   "source": [
    "# read in csv file\n",
    "csv_file_path = Path(\"survey_data.csv\")\n",
    "data = pd.read_csv(csv_file_path)"
   ]
  },
  {
   "cell_type": "code",
   "execution_count": 13,
   "id": "1d648390-3c2d-41ea-aca5-38236eaa8274",
   "metadata": {},
   "outputs": [],
   "source": [
    "# Create a dataframe for average time spent on social media\n",
    "average_time_df = data.groupby('avg_time_per_day').size().reset_index(name='count')\n",
    "\n",
    "# Examine data and view headers\n",
    "# average_time_df"
   ]
  },
  {
   "cell_type": "code",
   "execution_count": 14,
   "id": "36dbe5c2-0a68-4e5d-9f06-a6f449819946",
   "metadata": {},
   "outputs": [
    {
     "data": {
      "text/html": [
       "<div>\n",
       "<style scoped>\n",
       "    .dataframe tbody tr th:only-of-type {\n",
       "        vertical-align: middle;\n",
       "    }\n",
       "\n",
       "    .dataframe tbody tr th {\n",
       "        vertical-align: top;\n",
       "    }\n",
       "\n",
       "    .dataframe thead th {\n",
       "        text-align: right;\n",
       "    }\n",
       "</style>\n",
       "<table border=\"1\" class=\"dataframe\">\n",
       "  <thead>\n",
       "    <tr style=\"text-align: right;\">\n",
       "      <th></th>\n",
       "      <th>avg_time_per_day</th>\n",
       "      <th>count</th>\n",
       "    </tr>\n",
       "  </thead>\n",
       "  <tbody>\n",
       "    <tr>\n",
       "      <th>0</th>\n",
       "      <td>0-1</td>\n",
       "      <td>34</td>\n",
       "    </tr>\n",
       "    <tr>\n",
       "      <th>1</th>\n",
       "      <td>1-2</td>\n",
       "      <td>70</td>\n",
       "    </tr>\n",
       "    <tr>\n",
       "      <th>2</th>\n",
       "      <td>2-3</td>\n",
       "      <td>101</td>\n",
       "    </tr>\n",
       "    <tr>\n",
       "      <th>3</th>\n",
       "      <td>3-4</td>\n",
       "      <td>93</td>\n",
       "    </tr>\n",
       "    <tr>\n",
       "      <th>4</th>\n",
       "      <td>4-5</td>\n",
       "      <td>67</td>\n",
       "    </tr>\n",
       "    <tr>\n",
       "      <th>5</th>\n",
       "      <td>&gt;5</td>\n",
       "      <td>116</td>\n",
       "    </tr>\n",
       "  </tbody>\n",
       "</table>\n",
       "</div>"
      ],
      "text/plain": [
       "  avg_time_per_day  count\n",
       "0              0-1     34\n",
       "1              1-2     70\n",
       "2              2-3    101\n",
       "3              3-4     93\n",
       "4              4-5     67\n",
       "5               >5    116"
      ]
     },
     "execution_count": 14,
     "metadata": {},
     "output_type": "execute_result"
    }
   ],
   "source": [
    "# Map the bin labels using a dictionary\n",
    "average_time_df['avg_time_per_day'] = average_time_df['avg_time_per_day'].replace({\n",
    "               \"Less than an Hour\": '0-1',\n",
    "               \"Between 1 and 2 hours\": '1-2',\n",
    "               \"Between 2 and 3 hours\": '2-3', \"Between 3 and 4 hours\": '3-4',\n",
    "               \"Between 4 and 5 hours\":'4-5', \"More than 5 hours\": '>5'})\n",
    "\n",
    "# Reorder the DataFrame based on the 'avg_time_per_day' column\n",
    "average_time_df = average_time_df.sort_values('avg_time_per_day')\n",
    "\n",
    "# Reset the index to start from 0\n",
    "average_time_df = average_time_df.reset_index(drop=True)\n",
    "\n",
    "# Display the updated DataFrame with mapped bin labels\n",
    "average_time_df"
   ]
  },
  {
   "cell_type": "code",
   "execution_count": 15,
   "id": "6ad9e2f0-4646-4098-a912-e492d737ef56",
   "metadata": {},
   "outputs": [
    {
     "data": {
      "text/html": [
       "<div>\n",
       "<style scoped>\n",
       "    .dataframe tbody tr th:only-of-type {\n",
       "        vertical-align: middle;\n",
       "    }\n",
       "\n",
       "    .dataframe tbody tr th {\n",
       "        vertical-align: top;\n",
       "    }\n",
       "\n",
       "    .dataframe thead th {\n",
       "        text-align: right;\n",
       "    }\n",
       "</style>\n",
       "<table border=\"1\" class=\"dataframe\">\n",
       "  <thead>\n",
       "    <tr style=\"text-align: right;\">\n",
       "      <th></th>\n",
       "      <th>avg_time_per_day</th>\n",
       "      <th>count</th>\n",
       "    </tr>\n",
       "  </thead>\n",
       "  <tbody>\n",
       "    <tr>\n",
       "      <th>0</th>\n",
       "      <td>0-1</td>\n",
       "      <td>34</td>\n",
       "    </tr>\n",
       "    <tr>\n",
       "      <th>1</th>\n",
       "      <td>1-2</td>\n",
       "      <td>70</td>\n",
       "    </tr>\n",
       "    <tr>\n",
       "      <th>2</th>\n",
       "      <td>2-3</td>\n",
       "      <td>101</td>\n",
       "    </tr>\n",
       "    <tr>\n",
       "      <th>3</th>\n",
       "      <td>3-4</td>\n",
       "      <td>93</td>\n",
       "    </tr>\n",
       "    <tr>\n",
       "      <th>4</th>\n",
       "      <td>4-5</td>\n",
       "      <td>67</td>\n",
       "    </tr>\n",
       "    <tr>\n",
       "      <th>5</th>\n",
       "      <td>&gt;5</td>\n",
       "      <td>116</td>\n",
       "    </tr>\n",
       "  </tbody>\n",
       "</table>\n",
       "</div>"
      ],
      "text/plain": [
       "  avg_time_per_day  count\n",
       "0              0-1     34\n",
       "1              1-2     70\n",
       "2              2-3    101\n",
       "3              3-4     93\n",
       "4              4-5     67\n",
       "5               >5    116"
      ]
     },
     "execution_count": 15,
     "metadata": {},
     "output_type": "execute_result"
    }
   ],
   "source": [
    "average_time_df.sort_values('avg_time_per_day')"
   ]
  },
  {
   "cell_type": "code",
   "execution_count": 17,
   "id": "81e572b8-ccac-454c-b70f-643837263cf3",
   "metadata": {},
   "outputs": [
    {
     "data": {
      "image/png": "[encoded data removed]",
      "text/plain": [
       "<Figure size 640x480 with 1 Axes>"
      ]
     },
     "metadata": {},
     "output_type": "display_data"
    }
   ],
   "source": [
    "# Create a histogram showing Average Time Per Day distribution\n",
    "average_time_df.plot(kind='bar')\n",
    "plt.xticks(range(len(average_time_df)), average_time_df['avg_time_per_day'], rotation=0)\n",
    "plt.xlabel(\"Average Hours Per Day: All Demographics\")\n",
    "plt.tight_layout()\n",
    "plt.show()"
   ]
  },
  {
   "cell_type": "code",
   "execution_count": 19,
   "id": "ab7f25d1-692e-41b2-80b1-2cd62813be94",
   "metadata": {},
   "outputs": [
    {
     "data": {
      "text/html": [
       "<div>\n",
       "<style scoped>\n",
       "    .dataframe tbody tr th:only-of-type {\n",
       "        vertical-align: middle;\n",
       "    }\n",
       "\n",
       "    .dataframe tbody tr th {\n",
       "        vertical-align: top;\n",
       "    }\n",
       "\n",
       "    .dataframe thead th {\n",
       "        text-align: right;\n",
       "    }\n",
       "</style>\n",
       "<table border=\"1\" class=\"dataframe\">\n",
       "  <thead>\n",
       "    <tr style=\"text-align: right;\">\n",
       "      <th></th>\n",
       "      <th>avg_time_per_day</th>\n",
       "      <th>count</th>\n",
       "    </tr>\n",
       "  </thead>\n",
       "  <tbody>\n",
       "    <tr>\n",
       "      <th>0</th>\n",
       "      <td>0-1</td>\n",
       "      <td>34</td>\n",
       "    </tr>\n",
       "    <tr>\n",
       "      <th>1</th>\n",
       "      <td>1-2</td>\n",
       "      <td>70</td>\n",
       "    </tr>\n",
       "    <tr>\n",
       "      <th>2</th>\n",
       "      <td>2-3</td>\n",
       "      <td>101</td>\n",
       "    </tr>\n",
       "    <tr>\n",
       "      <th>3</th>\n",
       "      <td>3-4</td>\n",
       "      <td>93</td>\n",
       "    </tr>\n",
       "    <tr>\n",
       "      <th>4</th>\n",
       "      <td>4-5</td>\n",
       "      <td>67</td>\n",
       "    </tr>\n",
       "  </tbody>\n",
       "</table>\n",
       "</div>"
      ],
      "text/plain": [
       "  avg_time_per_day  count\n",
       "0              0-1     34\n",
       "1              1-2     70\n",
       "2              2-3    101\n",
       "3              3-4     93\n",
       "4              4-5     67"
      ]
     },
     "execution_count": 19,
     "metadata": {},
     "output_type": "execute_result"
    }
   ],
   "source": [
    "average_time_df.head()"
   ]
  },
  {
   "cell_type": "code",
   "execution_count": null,
   "id": "73a7e090-f869-4076-8e7d-3800197a234d",
   "metadata": {},
   "outputs": [],
   "source": [
    "# Create combined scores for depression and anxiety constructs"
   ]
  },
  {
   "cell_type": "code",
   "execution_count": 21,
   "id": "0fb9112b-e697-49c3-819a-a50bfa236af0",
   "metadata": {},
   "outputs": [
    {
     "data": {
      "text/plain": [
       "feel_depressed\n",
       "3    60\n",
       "2    46\n",
       "5    44\n",
       "4    32\n",
       "1    29\n",
       "Name: count, dtype: int64"
      ]
     },
     "execution_count": 21,
     "metadata": {},
     "output_type": "execute_result"
    }
   ],
   "source": [
    "# Avg time spent on social media vs feelings of depression (groupby male)\n",
    "depressed_male_df = data[data['gender'] == 'Male']['feel_depressed'].value_counts()\n",
    "depressed_male_df"
   ]
  },
  {
   "cell_type": "code",
   "execution_count": null,
   "id": "fd18de91-3515-4d2e-a2b9-fa6e1a5c83b3",
   "metadata": {},
   "outputs": [],
   "source": [
    "#Avg time spent on sm vs feelings of depression (groupby female)\n"
   ]
  },
  {
   "cell_type": "code",
   "execution_count": null,
   "id": "b2d49bb8-e558-498b-b5a2-978310ddd3cb",
   "metadata": {},
   "outputs": [],
   "source": [
    "# Are students in 2022 more likely to report feelings of depression than working professionals?\n"
   ]
  }
 ],
 "metadata": {
  "kernelspec": {
   "display_name": "Python 3 (ipykernel)",
   "language": "python",
   "name": "python3"
  },
  "language_info": {
   "codemirror_mode": {
    "name": "ipython",
    "version": 3
   },
   "file_extension": ".py",
   "mimetype": "text/x-python",
   "name": "python",
   "nbconvert_exporter": "python",
   "pygments_lexer": "ipython3",
   "version": "3.10.13"
  }
 },
 "nbformat": 4,
 "nbformat_minor": 5
}

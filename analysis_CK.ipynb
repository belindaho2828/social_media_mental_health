{
 "cells": [
  {
   "cell_type": "code",
   "execution_count": null,
   "id": "3a025408-3593-41ad-a7f9-4d4f862ed2a0",
   "metadata": {},
   "outputs": [],
   "source": [
    "# Import dependencies\n",
    "import pandas as pd\n",
    "import numpy as np\n",
    "import matplotlib.pyplot as plt\n",
    "import csv\n",
    "from pathlib import Path"
   ]
  },
  {
   "cell_type": "code",
   "execution_count": null,
   "id": "33de09f3-533b-4aa0-be8a-88952e815aaf",
   "metadata": {},
   "outputs": [],
   "source": [
    "# read in csv file\n",
    "csv_file_path = Path(\"survey_data.csv\")\n",
    "input_data = pd.read_csv(csv_file_path)"
   ]
  },
  {
   "cell_type": "markdown",
   "id": "5aecc0ba-daae-44b9-b065-7a6820a764dd",
   "metadata": {},
   "source": [
    "#### Mental Health Constructs (non-clinical)\n",
    "Create three new variables that each combine three questions to create a \"feelings of depression\" construct, \"inattentiveness construct\", and a \"validation seeking\" construct. The maimum score for each of these constructs is 15. These constructs will allow us to explore overall mental health based on self-reported tendencies of survey participants."
   ]
  },
  {
   "cell_type": "code",
   "execution_count": null,
   "id": "d67ce38c-7393-489a-8c7d-8ad49fb48f44",
   "metadata": {
    "scrolled": true
   },
   "outputs": [],
   "source": [
    "import csv\n",
    "\n",
    "# Define the input and output file paths\n",
    "input_file_path = \"survey_data.csv\"\n",
    "output_file_path = \"survey_data_cleaned.csv\"\n",
    "\n",
    "# Define the column indices for the existing variables\n",
    "feel_depressed_index = 27\n",
    "interest_in_daily_activ_index = 28\n",
    "bothered_by_worries_index = 22\n",
    "how_easily_distracted_index = 21\n",
    "difficult_to_concentrate_index = 23\n",
    "how_often_distracted_by_sm_index = 19\n",
    "compare_self_to_others_index = 24\n",
    "feel_about_comparisons_index = 25\n",
    "seek_validation_index = 26\n",
    "\n",
    "# Open the input CSV file and create a new CSV file for writing\n",
    "with open(input_file_path, 'r') as input_file, open(output_file_path, 'w', newline='') as output_file:\n",
    "    csv_reader = csv.reader(input_file)\n",
    "    csv_writer = csv.writer(output_file)\n",
    "\n",
    "    # Skip the header row\n",
    "    header = next(csv_reader)\n",
    "\n",
    "    # Write the header rows to the output file\n",
    "    header.append('depression_construct')\n",
    "    header.append('inattentive_construct')\n",
    "    header.append('valid_seek_construct')\n",
    "    csv_writer.writerow(header)\n",
    "\n",
    "    row_count = 0\n",
    "\n",
    "    # Iterate over each row in the input CSV file\n",
    "    for row in csv_reader:\n",
    "        row_count += 1\n",
    "        try:\n",
    "            # Print row data for debugging\n",
    "            print(f\"Processing row {row_count}: {row}\")\n",
    "\n",
    "            # Calculate the composite scores based on the existing variables and make them into integers\n",
    "            feel_depressed = int(row[feel_depressed_index])\n",
    "            interest_in_daily_activ = int(row[interest_in_daily_activ_index])\n",
    "            bothered_by_worries = int(row[bothered_by_worries_index])\n",
    "            depression_construct = feel_depressed + interest_in_daily_activ + bothered_by_worries\n",
    "\n",
    "            how_easily_distracted = int(row[how_easily_distracted_index])\n",
    "            difficult_to_concentrate = int(row[difficult_to_concentrate_index])\n",
    "            how_often_distracted_by_sm = int(row[how_often_distracted_by_sm_index])\n",
    "            inattentive_construct = how_easily_distracted + difficult_to_concentrate + how_often_distracted_by_sm\n",
    "\n",
    "            compare_self_to_others = int(row[compare_self_to_others_index])\n",
    "            feel_about_comparisons = int(row[feel_about_comparisons_index])\n",
    "            seek_validation = int(row[seek_validation_index])\n",
    "            valid_seek_construct = compare_self_to_others + feel_about_comparisons + seek_validation\n",
    "\n",
    "            # Add the composite score to the current row\n",
    "            row.append(depression_construct)\n",
    "            row.append(inattentive_construct)\n",
    "            row.append(valid_seek_construct)\n",
    "\n",
    "            # Write the updated row to the output file\n",
    "            csv_writer.writerow(row)\n",
    "        except ValueError as e:\n",
    "            print(f\"Error processing row {row_count}: {e}. Skipping row.\")\n",
    "\n",
    "    print(f\"Total rows processed: {row_count}\")"
   ]
  },
  {
   "cell_type": "code",
   "execution_count": null,
   "id": "1d3045a2-d11f-4b69-8214-d3c4d8587a5e",
   "metadata": {},
   "outputs": [],
   "source": [
    "import csv\n",
    "# read in csv file\n",
    "csv_file_path = Path(\"survey_data_cleaned.csv\")\n",
    "clean_data_df = pd.read_csv(csv_file_path)\n",
    "clean_data_df.head()"
   ]
  },
  {
   "cell_type": "code",
   "execution_count": null,
   "id": "36dbe5c2-0a68-4e5d-9f06-a6f449819946",
   "metadata": {
    "scrolled": true
   },
   "outputs": [],
   "source": [
    "# Replace the bin labels using a dictionary to make hours into integer ranges\n",
    "clean_data_df['avg_time_per_day'] = clean_data_df['avg_time_per_day'].replace({\n",
    "               \"Less than an Hour\": '0-1',\n",
    "               \"Between 1 and 2 hours\": '1-2',\n",
    "               \"Between 2 and 3 hours\": '2-3', \"Between 3 and 4 hours\": '3-4',\n",
    "               \"Between 4 and 5 hours\":'4-5', \"More than 5 hours\": '>5'})\n",
    "\n",
    "# Reorder the DataFrame based on the 'avg_time_per_day' column\n",
    "clean_data_df= clean_data_df.sort_values('avg_time_per_day')\n",
    "\n",
    "# Reset the index to start from 0\n",
    "clean_data_df = clean_data_df.reset_index(drop=True)\n",
    "\n",
    "# Display the updated DataFrame with mapped bin labels\n",
    "clean_data_df['avg_time_per_day']"
   ]
  },
  {
   "cell_type": "code",
   "execution_count": null,
   "id": "1d648390-3c2d-41ea-aca5-38236eaa8274",
   "metadata": {},
   "outputs": [],
   "source": [
    "# Create a dataframe for average time spent on social media\n",
    "average_time_df = clean_data_df.groupby('avg_time_per_day').size().reset_index(name='count')\n",
    "\n",
    "# Calculate the total count of each reponse option\n",
    "total_count = average_time_df['count'].sum()\n",
    "\n",
    "#Add a new column for the percentage\n",
    "average_time_df['percentage'] = ((average_time_df['count']/ total_count)*100).round(2)\n",
    "\n",
    "#Display the DataFrame with the new 'percentage' column\n",
    "average_time_df"
   ]
  },
  {
   "cell_type": "code",
   "execution_count": null,
   "id": "81e572b8-ccac-454c-b70f-643837263cf3",
   "metadata": {},
   "outputs": [],
   "source": [
    "# Create a histogram showing Average Time Per Day distribution\n",
    "average_time_df.plot(kind='bar', color='green')\n",
    "plt.xticks(range(len(average_time_df)), average_time_df['avg_time_per_day'], rotation=0)\n",
    "plt.xlabel(\"Average Hours Per Day: All Demographics\")\n",
    "plt.tight_layout()\n",
    "plt.savefig('Average_Hours_Per_Day_All_Demographics.jpg')\n",
    "plt.show()"
   ]
  },
  {
   "cell_type": "code",
   "execution_count": 75,
   "id": "37b3002c-981a-40b1-8de7-c636928aba56",
   "metadata": {},
   "outputs": [
    {
     "name": "stdout",
     "output_type": "stream",
     "text": [
      "Index(['ID_number', 'timestamp', 'age', 'gender', 'relationship_status',\n",
      "       'occupation_status', 'org_affiliations', 'use_social_media', 'facebook',\n",
      "       'twitter', 'instagram', 'youtube', 'snapchat', 'discord', 'reddit',\n",
      "       'pinterest', 'tiktok', 'avg_time_per_day',\n",
      "       'how_often_use_sm_without_purpose', 'how_often_distracted_by_sm',\n",
      "       'feel_restless_wo_sm', 'how_easily_distracted', 'bothered_by_worries',\n",
      "       'difficult_to_concentrate', 'compare_self_to_others',\n",
      "       'feel_about_comparisons', 'seek_validation', 'feel_depressed',\n",
      "       'interest_in_daily_activ', 'sleep_issues', 'depression_construct',\n",
      "       'inattentive_construct', 'valid_seek_construct'],\n",
      "      dtype='object')\n"
     ]
    }
   ],
   "source": [
    "print(clean_data_df.columns)"
   ]
  },
  {
   "cell_type": "code",
   "execution_count": 77,
   "id": "c96cbe64-aad2-4d6f-95e0-59a92299c33b",
   "metadata": {},
   "outputs": [
    {
     "name": "stdout",
     "output_type": "stream",
     "text": [
      "                       depression_construct  inattentive_construct  \\\n",
      "depression_construct               1.000000               0.638058   \n",
      "inattentive_construct              0.638058               1.000000   \n",
      "valid_seek_construct               0.440127               0.362147   \n",
      "avg_time_numeric                   0.348272               0.417063   \n",
      "\n",
      "                       valid_seek_construct  avg_time_numeric  \n",
      "depression_construct               0.440127          0.348272  \n",
      "inattentive_construct              0.362147          0.417063  \n",
      "valid_seek_construct               1.000000          0.185892  \n",
      "avg_time_numeric                   0.185892          1.000000  \n"
     ]
    }
   ],
   "source": [
    "# Convert avg_time_per_day into floats to enable correlation analysis\n",
    "time_mapping = {'0-1': 0.5, '1-2': 1.5, '2-3': 2.5, '3-4': 3.5, '4-5': 4.5, '5+': 5.5}\n",
    "clean_data_df['avg_time_numeric'] = clean_data_df['avg_time_per_day'].map(time_mapping)\n",
    "\n",
    "# Define correlation\n",
    "correlation = clean_data_df[[\"depression_construct\", \"inattentive_construct\", \"valid_seek_construct\", \"avg_time_numeric\"]].corr()\n",
    "print(correlation)"
   ]
  },
  {
   "cell_type": "code",
   "execution_count": 78,
   "id": "9780562e-117d-4c28-9370-92f28a0249c0",
   "metadata": {},
   "outputs": [
    {
     "data": {
      "image/png": "[encoded data removed]",
      "text/plain": [
       "<Figure size 800x600 with 2 Axes>"
      ]
     },
     "metadata": {},
     "output_type": "display_data"
    }
   ],
   "source": [
    "import seaborn as sns\n",
    "import matplotlib.pyplot as plt\n",
    "\n",
    "plt.figure(figsize=(8, 6))\n",
    "sns.heatmap(correlation, annot=True, cmap='coolwarm', fmt=\".2f\")\n",
    "plt.title('Correlation Matrix: Mental Health Constructs and Avg Time Spent on Social Media')\n",
    "plt.show()"
   ]
  },
  {
   "cell_type": "code",
   "execution_count": null,
   "id": "0fb9112b-e697-49c3-819a-a50bfa236af0",
   "metadata": {},
   "outputs": [],
   "source": [
    "# Time spent on social media vs feelings of depression/inattention/validation seeking (groupby male)\n",
    "males = clean_data_df.loc[clean_data_df['gender']== 'Male']\n",
    "depressed_male_df = males.groupby(['avg_time_per_day']).median(numeric_only=True)\n",
    "depressed_male_df = pd.DataFrame(depressed_male_df)\n",
    "depressed_male_df\n",
    "\n",
    "depressed_male_df[[\"depression_construct\", \"inattentive_construct\", \n",
    "                   \"valid_seek_construct\"]].plot.barh(xlabel='Mental Health Challenge Score',\n",
    "                                                      ylabel= 'Avg Hours of Social Media per Day',\n",
    "                                                      title= 'Time Spent on Social Media vs. Mental Health Challenges: Males',\n",
    "                                                      color=[\"y\", \"g\", \"c\"])\n",
    "plt.savefig('Male_Mental_Health_Barchart.jpg')\n",
    "plt.show()"
   ]
  },
  {
   "cell_type": "code",
   "execution_count": null,
   "id": "55ddf194-92fd-4550-9d32-7cf402b8c1a5",
   "metadata": {},
   "outputs": [],
   "source": [
    "summary_stats_male = depressed_male_df[[\"depression_construct\", \"inattentive_construct\", \"valid_seek_construct\"]].describe()\n",
    "summary_stats_male"
   ]
  },
  {
   "cell_type": "code",
   "execution_count": null,
   "id": "fd18de91-3515-4d2e-a2b9-fa6e1a5c83b3",
   "metadata": {},
   "outputs": [],
   "source": [
    "#Time spent on sm vs feelings of depression/inattention/validation seeking (groupby female)\n",
    "females = clean_data_df.loc[clean_data_df['gender']== 'Female']\n",
    "depressed_female_df = females.groupby(['avg_time_per_day']).median(numeric_only=True)\n",
    "depressed_female_df = pd.DataFrame(depressed_female_df)\n",
    "depressed_female_df\n",
    "\n",
    "depressed_female_df[[\"depression_construct\", \"inattentive_construct\", \n",
    "                   \"valid_seek_construct\"]].plot.barh(xlabel='Mental Health Challenge Score',\n",
    "                                                      ylabel= 'Avg Hours of Social Media per Day',\n",
    "                                                     title= 'Time Spent on Social Media vs. Mental Health Challenges: Females',\n",
    "                                                     color=[\"y\", \"g\", \"c\"])\n",
    "plt.savefig('Female_Mental_Health_Barchart.jpg')\n",
    "plt.show()"
   ]
  },
  {
   "cell_type": "code",
   "execution_count": null,
   "id": "5228c012-4b1e-464a-a631-6bcffd8f32ba",
   "metadata": {},
   "outputs": [],
   "source": [
    "summary_stats_female = depressed_female_df[[\"depression_construct\", \"inattentive_construct\", \"valid_seek_construct\"]].describe()\n",
    "summary_stats_female"
   ]
  }
 ],
 "metadata": {
  "kernelspec": {
   "display_name": "Python 3 (ipykernel)",
   "language": "python",
   "name": "python3"
  },
  "language_info": {
   "codemirror_mode": {
    "name": "ipython",
    "version": 3
   },
   "file_extension": ".py",
   "mimetype": "text/x-python",
   "name": "python",
   "nbconvert_exporter": "python",
   "pygments_lexer": "ipython3",
   "version": "3.10.13"
  }
 },
 "nbformat": 4,
 "nbformat_minor": 5
}

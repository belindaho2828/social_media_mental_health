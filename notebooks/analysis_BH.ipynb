{
 "cells": [
  {
   "cell_type": "code",
   "execution_count": 1,
   "id": "80678063-0068-4788-a806-35208459730b",
   "metadata": {
    "tags": []
   },
   "outputs": [],
   "source": [
    "#import dependencies\n",
    "import pandas as pd\n",
    "import numpy as np\n",
    "import matplotlib.pyplot as plt\n",
    "import scipy.stats as st"
   ]
  },
  {
   "cell_type": "code",
   "execution_count": 2,
   "id": "d24e2a9e-d5cf-4971-bb8f-c6e4c46679b0",
   "metadata": {
    "tags": []
   },
   "outputs": [],
   "source": [
    "#read in csv\n",
    "survey_data_path = \"survey_data_cleaned.csv\"\n",
    "survey_data = pd.read_csv(survey_data_path)"
   ]
  },
  {
   "cell_type": "code",
   "execution_count": 3,
   "id": "44534f47-31ad-4633-a9fe-c5fd7c057c46",
   "metadata": {
    "tags": []
   },
   "outputs": [
    {
     "data": {
      "text/html": [
       "<div>\n",
       "<style scoped>\n",
       "    .dataframe tbody tr th:only-of-type {\n",
       "        vertical-align: middle;\n",
       "    }\n",
       "\n",
       "    .dataframe tbody tr th {\n",
       "        vertical-align: top;\n",
       "    }\n",
       "\n",
       "    .dataframe thead th {\n",
       "        text-align: right;\n",
       "    }\n",
       "</style>\n",
       "<table border=\"1\" class=\"dataframe\">\n",
       "  <thead>\n",
       "    <tr style=\"text-align: right;\">\n",
       "      <th></th>\n",
       "      <th>ID_number</th>\n",
       "      <th>timestamp</th>\n",
       "      <th>age</th>\n",
       "      <th>gender</th>\n",
       "      <th>relationship_status</th>\n",
       "      <th>occupation_status</th>\n",
       "      <th>org_affiliations</th>\n",
       "      <th>use_social_media</th>\n",
       "      <th>facebook</th>\n",
       "      <th>twitter</th>\n",
       "      <th>...</th>\n",
       "      <th>difficult_to_concentrate</th>\n",
       "      <th>compare_self_to_others</th>\n",
       "      <th>feel_about_comparisons</th>\n",
       "      <th>seek_validation</th>\n",
       "      <th>feel_depressed</th>\n",
       "      <th>interest_in_daily_activ</th>\n",
       "      <th>sleep_issues</th>\n",
       "      <th>depression_construct</th>\n",
       "      <th>inattentive_construct</th>\n",
       "      <th>valid_seek_construct</th>\n",
       "    </tr>\n",
       "  </thead>\n",
       "  <tbody>\n",
       "    <tr>\n",
       "      <th>0</th>\n",
       "      <td>1</td>\n",
       "      <td>4/18/2022 19:18</td>\n",
       "      <td>21.0</td>\n",
       "      <td>Male</td>\n",
       "      <td>In a relationship</td>\n",
       "      <td>University Student</td>\n",
       "      <td>University</td>\n",
       "      <td>Yes</td>\n",
       "      <td>Yes</td>\n",
       "      <td>Yes</td>\n",
       "      <td>...</td>\n",
       "      <td>5</td>\n",
       "      <td>2</td>\n",
       "      <td>3</td>\n",
       "      <td>2</td>\n",
       "      <td>5</td>\n",
       "      <td>4</td>\n",
       "      <td>5</td>\n",
       "      <td>11</td>\n",
       "      <td>13</td>\n",
       "      <td>7</td>\n",
       "    </tr>\n",
       "    <tr>\n",
       "      <th>1</th>\n",
       "      <td>2</td>\n",
       "      <td>4/18/2022 19:19</td>\n",
       "      <td>21.0</td>\n",
       "      <td>Female</td>\n",
       "      <td>Single</td>\n",
       "      <td>University Student</td>\n",
       "      <td>University</td>\n",
       "      <td>Yes</td>\n",
       "      <td>Yes</td>\n",
       "      <td>Yes</td>\n",
       "      <td>...</td>\n",
       "      <td>4</td>\n",
       "      <td>5</td>\n",
       "      <td>1</td>\n",
       "      <td>1</td>\n",
       "      <td>5</td>\n",
       "      <td>4</td>\n",
       "      <td>5</td>\n",
       "      <td>14</td>\n",
       "      <td>11</td>\n",
       "      <td>7</td>\n",
       "    </tr>\n",
       "    <tr>\n",
       "      <th>2</th>\n",
       "      <td>3</td>\n",
       "      <td>4/18/2022 19:25</td>\n",
       "      <td>21.0</td>\n",
       "      <td>Female</td>\n",
       "      <td>Single</td>\n",
       "      <td>University Student</td>\n",
       "      <td>University</td>\n",
       "      <td>Yes</td>\n",
       "      <td>Yes</td>\n",
       "      <td>No</td>\n",
       "      <td>...</td>\n",
       "      <td>4</td>\n",
       "      <td>3</td>\n",
       "      <td>3</td>\n",
       "      <td>1</td>\n",
       "      <td>4</td>\n",
       "      <td>2</td>\n",
       "      <td>5</td>\n",
       "      <td>11</td>\n",
       "      <td>8</td>\n",
       "      <td>7</td>\n",
       "    </tr>\n",
       "    <tr>\n",
       "      <th>3</th>\n",
       "      <td>4</td>\n",
       "      <td>4/18/2022 19:29</td>\n",
       "      <td>21.0</td>\n",
       "      <td>Female</td>\n",
       "      <td>Single</td>\n",
       "      <td>University Student</td>\n",
       "      <td>University</td>\n",
       "      <td>Yes</td>\n",
       "      <td>Yes</td>\n",
       "      <td>No</td>\n",
       "      <td>...</td>\n",
       "      <td>3</td>\n",
       "      <td>5</td>\n",
       "      <td>1</td>\n",
       "      <td>2</td>\n",
       "      <td>4</td>\n",
       "      <td>3</td>\n",
       "      <td>2</td>\n",
       "      <td>12</td>\n",
       "      <td>8</td>\n",
       "      <td>8</td>\n",
       "    </tr>\n",
       "    <tr>\n",
       "      <th>4</th>\n",
       "      <td>5</td>\n",
       "      <td>4/18/2022 19:33</td>\n",
       "      <td>21.0</td>\n",
       "      <td>Female</td>\n",
       "      <td>Single</td>\n",
       "      <td>University Student</td>\n",
       "      <td>University</td>\n",
       "      <td>Yes</td>\n",
       "      <td>Yes</td>\n",
       "      <td>No</td>\n",
       "      <td>...</td>\n",
       "      <td>5</td>\n",
       "      <td>3</td>\n",
       "      <td>3</td>\n",
       "      <td>3</td>\n",
       "      <td>4</td>\n",
       "      <td>4</td>\n",
       "      <td>1</td>\n",
       "      <td>13</td>\n",
       "      <td>14</td>\n",
       "      <td>9</td>\n",
       "    </tr>\n",
       "  </tbody>\n",
       "</table>\n",
       "<p>5 rows × 33 columns</p>\n",
       "</div>"
      ],
      "text/plain": [
       "   ID_number        timestamp   age  gender relationship_status  \\\n",
       "0          1  4/18/2022 19:18  21.0    Male   In a relationship   \n",
       "1          2  4/18/2022 19:19  21.0  Female              Single   \n",
       "2          3  4/18/2022 19:25  21.0  Female              Single   \n",
       "3          4  4/18/2022 19:29  21.0  Female              Single   \n",
       "4          5  4/18/2022 19:33  21.0  Female              Single   \n",
       "\n",
       "    occupation_status org_affiliations use_social_media facebook twitter  ...  \\\n",
       "0  University Student       University              Yes      Yes     Yes  ...   \n",
       "1  University Student       University              Yes      Yes     Yes  ...   \n",
       "2  University Student       University              Yes      Yes      No  ...   \n",
       "3  University Student       University              Yes      Yes      No  ...   \n",
       "4  University Student       University              Yes      Yes      No  ...   \n",
       "\n",
       "  difficult_to_concentrate compare_self_to_others feel_about_comparisons  \\\n",
       "0                        5                      2                      3   \n",
       "1                        4                      5                      1   \n",
       "2                        4                      3                      3   \n",
       "3                        3                      5                      1   \n",
       "4                        5                      3                      3   \n",
       "\n",
       "  seek_validation feel_depressed interest_in_daily_activ sleep_issues  \\\n",
       "0               2              5                       4            5   \n",
       "1               1              5                       4            5   \n",
       "2               1              4                       2            5   \n",
       "3               2              4                       3            2   \n",
       "4               3              4                       4            1   \n",
       "\n",
       "  depression_construct  inattentive_construct  valid_seek_construct  \n",
       "0                   11                     13                     7  \n",
       "1                   14                     11                     7  \n",
       "2                   11                      8                     7  \n",
       "3                   12                      8                     8  \n",
       "4                   13                     14                     9  \n",
       "\n",
       "[5 rows x 33 columns]"
      ]
     },
     "execution_count": 3,
     "metadata": {},
     "output_type": "execute_result"
    }
   ],
   "source": [
    "#create dataframe\n",
    "survey_df = pd.DataFrame(survey_data)\n",
    "survey_df.head()"
   ]
  },
  {
   "cell_type": "code",
   "execution_count": 4,
   "id": "5c9cfd83-3dac-4311-9437-7d330d698626",
   "metadata": {
    "tags": []
   },
   "outputs": [
    {
     "name": "stdout",
     "output_type": "stream",
     "text": [
      "number of NaN valuesID_number                            0\n",
      "timestamp                            0\n",
      "age                                  0\n",
      "gender                               0\n",
      "relationship_status                  0\n",
      "occupation_status                    0\n",
      "org_affiliations                    30\n",
      "use_social_media                     0\n",
      "facebook                             0\n",
      "twitter                              0\n",
      "instagram                            0\n",
      "youtube                              0\n",
      "snapchat                             0\n",
      "discord                              0\n",
      "reddit                               0\n",
      "pinterest                            0\n",
      "tiktok                               0\n",
      "avg_time_per_day                     0\n",
      "how_often_use_sm_without_purpose     0\n",
      "how_often_distracted_by_sm           0\n",
      "feel_restless_wo_sm                  0\n",
      "how_easily_distracted                0\n",
      "bothered_by_worries                  0\n",
      "difficult_to_concentrate             0\n",
      "compare_self_to_others               0\n",
      "feel_about_comparisons               0\n",
      "seek_validation                      0\n",
      "feel_depressed                       0\n",
      "interest_in_daily_activ              0\n",
      "sleep_issues                         0\n",
      "depression_construct                 0\n",
      "inattentive_construct                0\n",
      "valid_seek_construct                 0\n",
      "dtype: int64\n"
     ]
    }
   ],
   "source": [
    "#count of null\n",
    "#conclusion: only null in org_affiliations. not of concern.\n",
    "nan_count = survey_df.isnull().sum()\n",
    "print(f\"number of NaN values{nan_count}\")"
   ]
  },
  {
   "cell_type": "code",
   "execution_count": 5,
   "id": "ee026a1f-360e-4b1a-9c61-f5d816f19ce0",
   "metadata": {
    "tags": []
   },
   "outputs": [
    {
     "data": {
      "text/plain": [
       "gender\n",
       "Female                 263\n",
       "Male                   211\n",
       "Nonbinary                1\n",
       "Non-binary               1\n",
       "NB                       1\n",
       "unsure                   1\n",
       "Trans                    1\n",
       "Non binary               1\n",
       "There are others???      1\n",
       "Name: count, dtype: int64"
      ]
     },
     "execution_count": 5,
     "metadata": {},
     "output_type": "execute_result"
    }
   ],
   "source": [
    "#create variable to hold gender count\n",
    "gender_check = survey_df[\"gender\"].value_counts()\n",
    "gender_check"
   ]
  },
  {
   "cell_type": "code",
   "execution_count": 6,
   "id": "50735d5a-607a-4b21-afdf-196def400467",
   "metadata": {},
   "outputs": [],
   "source": [
    "NB_variations = [\"Nonbinary\",\"NB\",\"unsure\",\"There are others???\", \"Non binary\"]\n",
    "\n",
    "survey_df[\"gender\"] = survey_df[\"gender\"].str.strip()\n",
    "\n",
    "for variation in NB_variations:\n",
    "    survey_df.loc[survey_df[\"gender\"] == variation, \"gender\"] = \"Non-binary\""
   ]
  },
  {
   "cell_type": "code",
   "execution_count": 7,
   "id": "0d1883c8-0e87-4cbf-ac2b-3fde6ddc0a28",
   "metadata": {},
   "outputs": [
    {
     "data": {
      "text/plain": [
       "gender\n",
       "Female        263\n",
       "Male          211\n",
       "Non-binary      6\n",
       "Trans           1\n",
       "Name: count, dtype: int64"
      ]
     },
     "execution_count": 7,
     "metadata": {},
     "output_type": "execute_result"
    }
   ],
   "source": [
    "gender = survey_df[\"gender\"].value_counts()\n",
    "gender"
   ]
  },
  {
   "cell_type": "code",
   "execution_count": 59,
   "id": "1e8ce7e6-33df-4247-947e-11179b738d5e",
   "metadata": {
    "tags": []
   },
   "outputs": [
    {
     "data": {
      "image/png": "[encoded data removed]",
      "text/plain": [
       "<Figure size 640x480 with 1 Axes>"
      ]
     },
     "metadata": {},
     "output_type": "display_data"
    },
    {
     "data": {
      "text/plain": [
       "<Figure size 640x480 with 0 Axes>"
      ]
     },
     "metadata": {},
     "output_type": "display_data"
    }
   ],
   "source": [
    "#create labels with elements in \"gender\" column\n",
    "gender_labels = []\n",
    "for i in survey_df[\"gender\"]:\n",
    "    if i not in gender_labels:\n",
    "        gender_labels.append(i)\n",
    "\n",
    "gender_colors = [\"mediumpurple\", \"coral\", \"darkgreen\", \"bisque\"]\n",
    "#create pie chart: use of Social Media by gender\n",
    "gender.plot(kind = \"pie\", labels = gender_labels, autopct = \"%1.1f%%\", ylabel = \"Gender\", colors = gender_colors)\n",
    "plt.legend(gender_labels, loc=\"upper right\")\n",
    "plt.show()\n",
    "plt.savefig(\"output/BH_gender_pie\")"
   ]
  },
  {
   "cell_type": "markdown",
   "id": "6ffb3508-b335-43e5-9df2-539fbc680816",
   "metadata": {},
   "source": [
    "# Gender Pie Chart Summary #\n",
    "Our dataset had slightly more male-identifying survey participants than other genders at 54.7% followed by Females at 43.9%, Non-binary at 1.2%, and trans at 0.2%. "
   ]
  },
  {
   "cell_type": "code",
   "execution_count": 9,
   "id": "b1ce7f91-b018-4c71-b711-4ba1ab3b0dd8",
   "metadata": {
    "tags": []
   },
   "outputs": [],
   "source": [
    "#create stacked bar chart of social media usage by gender\n",
    "\n",
    "#create a dataframe of social media platform by gender\n",
    "platforms = [\"Facebook\", \"Twitter\", \"Instagram\", \"YouTube\", \"Snapchat\", \"Discord\", \"Reddit\", \"Pinterest\", \"TikTok\"]\n",
    "platform_gender_dict = {\"Gender\":gender_labels,\n",
    "                        \"Facebook_count\": \"\",\n",
    "                        \"Twitter_count\": \"\",\n",
    "                        \"Instagram_count\": \"\",\n",
    "                        \"YouTube_count\": \"\",\n",
    "                        \"Snapchat_count\": \"\",\n",
    "                        \"Discord_count\": \"\",\n",
    "                        \"Reddit_count\": \"\",\n",
    "                        \"Pinterest_count\": \"\",\n",
    "                        \"TikTok_count\": \"\"}\n",
    "platform_gender_df = pd.DataFrame(platform_gender_dict)"
   ]
  },
  {
   "cell_type": "code",
   "execution_count": 10,
   "id": "9680d689-98cf-4895-959b-87c10bc1b7d5",
   "metadata": {
    "tags": []
   },
   "outputs": [],
   "source": [
    "platform_gender_df.set_index(\"Gender\", inplace = True)"
   ]
  },
  {
   "cell_type": "code",
   "execution_count": 11,
   "id": "b22eef0d-086d-458d-ab01-521301d22398",
   "metadata": {
    "tags": []
   },
   "outputs": [],
   "source": [
    "def platform_gender_fn(gendercol, platform_count, dfplatformcol):\n",
    "    platform_gender_df.loc[gendercol,platform_count]=survey_df.loc[(survey_df[\"gender\"] == gendercol) & (survey_df[dfplatformcol] == \"Yes\")].shape[0]"
   ]
  },
  {
   "cell_type": "code",
   "execution_count": 12,
   "id": "bb5d7389-4e8e-419b-83d9-ede99a285920",
   "metadata": {
    "tags": []
   },
   "outputs": [],
   "source": [
    "for index, row in platform_gender_df.iterrows():\n",
    "    platform_gender_fn(index, \"Facebook_count\", \"facebook\")\n",
    "    platform_gender_fn(index, \"Twitter_count\", \"twitter\")\n",
    "    platform_gender_fn(index, \"Instagram_count\", \"instagram\")\n",
    "    platform_gender_fn(index, \"YouTube_count\", \"youtube\")\n",
    "    platform_gender_fn(index, \"Snapchat_count\", \"snapchat\")\n",
    "    platform_gender_fn(index, \"Discord_count\", \"discord\")\n",
    "    platform_gender_fn(index, \"Reddit_count\", \"reddit\")\n",
    "    platform_gender_fn(index, \"Pinterest_count\", \"pinterest\")\n",
    "    platform_gender_fn(index, \"TikTok_count\", \"tiktok\")"
   ]
  },
  {
   "cell_type": "code",
   "execution_count": 13,
   "id": "27b6e368-5b95-49f8-8539-87bd91d50086",
   "metadata": {
    "tags": []
   },
   "outputs": [],
   "source": [
    "platform_gender_df = platform_gender_df.T"
   ]
  },
  {
   "cell_type": "code",
   "execution_count": 68,
   "id": "247f5c3b-6662-4dec-8df6-d6cdad664574",
   "metadata": {
    "tags": []
   },
   "outputs": [
    {
     "data": {
      "image/png": "[encoded data removed]",
      "text/plain": [
       "<Figure size 640x480 with 1 Axes>"
      ]
     },
     "metadata": {},
     "output_type": "display_data"
    },
    {
     "data": {
      "text/plain": [
       "<Figure size 640x480 with 0 Axes>"
      ]
     },
     "metadata": {},
     "output_type": "display_data"
    }
   ],
   "source": [
    "ax_1 = platform_gender_df.plot(kind = \"bar\", stacked = True, legend = True, color = gender_colors)\n",
    "for i in ax_1.patches:\n",
    "    ax_1.text(i.get_x() + i.get_width()/2,\n",
    "            i.get_y() + i.get_height()/2,\n",
    "            str(i.get_height()),\n",
    "             fontsize = \"small\",\n",
    "            ha = \"center\", va = \"center\")\n",
    "plt.title(\"Count of Platforms by Gender\")\n",
    "plt.show()\n",
    "plt.savefig(\"output/BH_gender_platform_bar\")"
   ]
  },
  {
   "cell_type": "markdown",
   "id": "548bb8b4-342a-4423-ad2f-178e766d4f94",
   "metadata": {},
   "source": [
    "# Gender and Platform Bar Chart Summary #\n",
    "The top 3 platforms that the survey participants in our dataset use are YouTube, Facebook, and Instagram. Although our sample has more males-identifying participants overall, there are more female-identifying participants that use the top 3 platforms and across all other platforms except for Twitter, Discord, and Reddit. This might mean that female-identifying participants gravitate more toward platforms designed for social networking while male-identifying participants gravitate more toward platforms designed for communications within communities. \n",
    "\n",
    "Note: the survey question asked participants \"What social media platforms do you commonly use?\" Our group parsed these answers and assigned \"yes/no\" values to each platform. As such, the counts on this visualization represent multiple platforms per participant and does not give any magnitude of each platform (e.g., someone can list both Instagram and Reddit but use Instagram much more)."
   ]
  },
  {
   "cell_type": "code",
   "execution_count": 92,
   "id": "7266944b-bb2b-4bc7-9a0c-c2497e90f039",
   "metadata": {
    "tags": []
   },
   "outputs": [
    {
     "name": "stdout",
     "output_type": "stream",
     "text": [
      "the lower bound of age is 13.5 and the upper bound is 33.5 with 83 outliers: [34.0, 35.0, 35.0, 35.0, 56.0, 65.0, 40.0, 55.0, 38.0, 48.0, 47.0, 48.0, 47.0, 47.0, 34.0, 48.0, 50.0, 47.0, 38.0, 50.0, 49.0, 47.0, 48.0, 51.0, 50.0, 47.0, 40.0, 46.0, 47.0, 47.0, 48.0, 49.0, 47.0, 50.0, 48.0, 47.0, 36.0, 37.0, 48.0, 48.0, 48.0, 47.0, 47.0, 48.0, 48.0, 47.0, 35.0, 37.0, 48.0, 47.0, 45.0, 47.0, 47.0, 42.0, 35.0, 38.0, 34.0, 48.0, 37.0, 50.0, 46.0, 36.0, 69.0, 34.0, 34.0, 36.0, 43.0, 37.0, 35.0, 52.0, 44.0, 44.0, 35.0, 60.0, 49.0, 34.0, 56.0, 51.0, 50.0, 13.0, 13.0, 35.0, 53.0]\n",
      "outliers make up 17.29% of the dataset\n",
      "==================================================\n",
      "the mean age of the survey is 26.001458333333336 and median is 22.0\n",
      "==================================================\n"
     ]
    }
   ],
   "source": [
    "#box and whiskers of age\n",
    "#age 91 might be a typo - drop entire row\n",
    "survey_df = survey_df.loc[survey_df[\"age\"] != 91]\n",
    "#Determine outliers\n",
    "quartiles = survey_df[\"age\"].quantile([0.25, 0.5, 0.75])\n",
    "lowerq = quartiles[0.25]\n",
    "upperq = quartiles[0.75]\n",
    "iqr = upperq-lowerq\n",
    "lower_bound = lowerq - (1.5*iqr)\n",
    "upper_bound = upperq + (1.5*iqr)\n",
    "\n",
    "outliers = survey_df[\"age\"].loc[(survey_df[\"age\"] < lower_bound) | (survey_df[\"age\"] > upper_bound)]\n",
    "print(f\"the lower bound of age is {lower_bound} and the upper bound is {upper_bound} with {len(list(outliers))} outliers: {list(outliers)}\")\n",
    "\n",
    "percentage_outliers = (len(outliers) / len(survey_df)) * 100\n",
    "\n",
    "print(f\"outliers make up {percentage_outliers:.2f}% of the dataset\")\n",
    "\n",
    "mean_age = survey_df[\"age\"].mean()\n",
    "median_age = survey_df[\"age\"].median()\n",
    "print(\"=\"*50)\n",
    "\n",
    "print(f\"the mean age of the survey is {mean_age} and median is {median_age}\")\n",
    "\n",
    "print(\"=\"*50)\n",
    "\n"
   ]
  },
  {
   "cell_type": "code",
   "execution_count": 72,
   "id": "3b9b34d1-b3bb-4a02-8271-3b9afd636acc",
   "metadata": {
    "tags": []
   },
   "outputs": [
    {
     "data": {
      "text/plain": [
       "19    34.0\n",
       "25    35.0\n",
       "27    35.0\n",
       "31    35.0\n",
       "42    56.0\n",
       "Name: age, dtype: float64"
      ]
     },
     "execution_count": 72,
     "metadata": {},
     "output_type": "execute_result"
    }
   ],
   "source": [
    "outliers_series = pd.DataFrame(outliers)\n",
    "outliers_series.head()"
   ]
  },
  {
   "cell_type": "code",
   "execution_count": 66,
   "id": "951ffc83-62bf-4a5d-9fe2-abf8127533be",
   "metadata": {
    "tags": []
   },
   "outputs": [
    {
     "data": {
      "image/png": "[encoded data removed]",
      "text/plain": [
       "<Figure size 640x480 with 1 Axes>"
      ]
     },
     "metadata": {},
     "output_type": "display_data"
    },
    {
     "data": {
      "text/plain": [
       "<Figure size 640x480 with 0 Axes>"
      ]
     },
     "metadata": {},
     "output_type": "display_data"
    }
   ],
   "source": [
    "#plot box and whiskers\n",
    "flierprops = dict(marker = \"o\", markerfacecolor = \"lavender\", markeredgecolor = \"black\", markersize = 8)\n",
    "plt.boxplot(survey_df[\"age\"], flierprops = flierprops)\n",
    "plt.xlabel(\"sample\")\n",
    "plt.ylabel(\"age\")\n",
    "plt.title(\"Age Distribution of Sample\")\n",
    "plt.show()\n",
    "plt.savefig(\"output/BH_age_box\")"
   ]
  },
  {
   "cell_type": "code",
   "execution_count": 82,
   "id": "4ec8c542-f07a-4cb5-bb3e-fea8d9b35337",
   "metadata": {
    "tags": []
   },
   "outputs": [
    {
     "name": "stdout",
     "output_type": "stream",
     "text": [
      "the variance of age in our data set is 89.52601870659733, standard deviation is 9.461818995658145, and standard error from the mean is 0.4323215446491695.\n",
      "==================================================\n",
      "there are 480 records in the dataset.\n"
     ]
    }
   ],
   "source": [
    "var = np.var(survey_df[\"age\"])\n",
    "std = np.std(survey_df[\"age\"])\n",
    "sem = st.sem(survey_df[\"age\"])\n",
    "\n",
    "print(f\"the variance of age in our data set is {var}, standard deviation is {std}, and standard error from the mean is {sem}.\")\n",
    "print(\"=\"*50)\n",
    "print(f\"there are {len(survey_df)} records in the dataset.\")"
   ]
  },
  {
   "cell_type": "markdown",
   "id": "c6276b81-f58a-491f-86a8-e9fdd7c3fadd",
   "metadata": {},
   "source": [
    "# Age Distribution Box and Whiskers Plot Summary #\n",
    "The age distribution of the survey participants in our dataset has a relatively small standard deviation compared to the total age range (i.e., 9.5 standard deviation in a dataset with age range 13-69). This means most of the data is clustered around the mean age of 26. Additionally, the median age of the survey participants in our dataset is 22. This is consistent with the fact that the survey was conducted as part of a project for a university statistics course. There are 83 outliers out of 480 records, about 17% of all survey participants. Although the distribution of the dataset is not very large and mostly represents a younger demographic, there is still representation across a wide age range. \n",
    "\n",
    "It is important to keep in mind that this may not be very representative of the population as a whole and the results should not be extrapolated to draw conclusions as such."
   ]
  },
  {
   "cell_type": "code",
   "execution_count": 17,
   "id": "32c6099f-3cad-4b98-84ef-3a1f7357b0b8",
   "metadata": {},
   "outputs": [],
   "source": [
    "# Map the bin labels using a dictionary\n",
    "survey_df['avg_time_per_day'] = survey_df['avg_time_per_day'].replace({\n",
    "               \"Less than an Hour\": '0-1',\n",
    "               \"Between 1 and 2 hours\": '1-2',\n",
    "               \"Between 2 and 3 hours\": '2-3', \"Between 3 and 4 hours\": '3-4',\n",
    "               \"Between 4 and 5 hours\":'4-5', \"More than 5 hours\": '>5'})\n"
   ]
  },
  {
   "cell_type": "code",
   "execution_count": 75,
   "id": "eaa79ae9-d4d1-4893-aec0-e1bece6be11c",
   "metadata": {
    "tags": []
   },
   "outputs": [
    {
     "data": {
      "text/plain": [
       "13.0"
      ]
     },
     "execution_count": 75,
     "metadata": {},
     "output_type": "execute_result"
    }
   ],
   "source": [
    "#check for min age\n",
    "survey_df[\"age\"].min()"
   ]
  },
  {
   "cell_type": "code",
   "execution_count": 18,
   "id": "41da692f-5cdd-4eb9-9447-f67c25ea903a",
   "metadata": {},
   "outputs": [
    {
     "data": {
      "text/plain": [
       "69.0"
      ]
     },
     "execution_count": 18,
     "metadata": {},
     "output_type": "execute_result"
    }
   ],
   "source": [
    "#check max age after dropping 91\n",
    "survey_df[\"age\"].max()"
   ]
  },
  {
   "cell_type": "code",
   "execution_count": 56,
   "id": "ad47c12f-87ce-47ce-b64c-78c05d2c7396",
   "metadata": {},
   "outputs": [],
   "source": [
    "#bin ages\n",
    "age_bins = [0, 18, 24, 30, 50, 70]\n",
    "age_bin_labels = [\"<18\", \"18-24\", \"25-30\", \"31-50\", \"50+\"]\n",
    "age_colors = [\"mediumpurple\", \"coral\", \"darkgreen\", \"bisque\", \"olive\"]\n",
    "survey_df[\"Age Range\"]=pd.cut(survey_df[\"age\"], bins = age_bins, labels=age_bin_labels, include_lowest=True)               "
   ]
  },
  {
   "cell_type": "code",
   "execution_count": 51,
   "id": "18bdb14f-5870-4f0a-8d66-9a2e611a1600",
   "metadata": {},
   "outputs": [
    {
     "data": {
      "text/html": [
       "<div>\n",
       "<style scoped>\n",
       "    .dataframe tbody tr th:only-of-type {\n",
       "        vertical-align: middle;\n",
       "    }\n",
       "\n",
       "    .dataframe tbody tr th {\n",
       "        vertical-align: top;\n",
       "    }\n",
       "\n",
       "    .dataframe thead th {\n",
       "        text-align: right;\n",
       "    }\n",
       "</style>\n",
       "<table border=\"1\" class=\"dataframe\">\n",
       "  <thead>\n",
       "    <tr style=\"text-align: right;\">\n",
       "      <th></th>\n",
       "      <th>ID_number</th>\n",
       "      <th>age</th>\n",
       "      <th>Age Range</th>\n",
       "      <th>avg_time_per_day</th>\n",
       "    </tr>\n",
       "  </thead>\n",
       "  <tbody>\n",
       "    <tr>\n",
       "      <th>0</th>\n",
       "      <td>1</td>\n",
       "      <td>21.0</td>\n",
       "      <td>18-24</td>\n",
       "      <td>2-3</td>\n",
       "    </tr>\n",
       "    <tr>\n",
       "      <th>1</th>\n",
       "      <td>2</td>\n",
       "      <td>21.0</td>\n",
       "      <td>18-24</td>\n",
       "      <td>&gt;5</td>\n",
       "    </tr>\n",
       "    <tr>\n",
       "      <th>2</th>\n",
       "      <td>3</td>\n",
       "      <td>21.0</td>\n",
       "      <td>18-24</td>\n",
       "      <td>3-4</td>\n",
       "    </tr>\n",
       "    <tr>\n",
       "      <th>3</th>\n",
       "      <td>4</td>\n",
       "      <td>21.0</td>\n",
       "      <td>18-24</td>\n",
       "      <td>&gt;5</td>\n",
       "    </tr>\n",
       "    <tr>\n",
       "      <th>4</th>\n",
       "      <td>5</td>\n",
       "      <td>21.0</td>\n",
       "      <td>18-24</td>\n",
       "      <td>2-3</td>\n",
       "    </tr>\n",
       "    <tr>\n",
       "      <th>...</th>\n",
       "      <td>...</td>\n",
       "      <td>...</td>\n",
       "      <td>...</td>\n",
       "      <td>...</td>\n",
       "    </tr>\n",
       "    <tr>\n",
       "      <th>476</th>\n",
       "      <td>477</td>\n",
       "      <td>24.0</td>\n",
       "      <td>18-24</td>\n",
       "      <td>2-3</td>\n",
       "    </tr>\n",
       "    <tr>\n",
       "      <th>477</th>\n",
       "      <td>478</td>\n",
       "      <td>26.0</td>\n",
       "      <td>25-30</td>\n",
       "      <td>1-2</td>\n",
       "    </tr>\n",
       "    <tr>\n",
       "      <th>478</th>\n",
       "      <td>479</td>\n",
       "      <td>29.0</td>\n",
       "      <td>25-30</td>\n",
       "      <td>2-3</td>\n",
       "    </tr>\n",
       "    <tr>\n",
       "      <th>479</th>\n",
       "      <td>480</td>\n",
       "      <td>21.0</td>\n",
       "      <td>18-24</td>\n",
       "      <td>2-3</td>\n",
       "    </tr>\n",
       "    <tr>\n",
       "      <th>480</th>\n",
       "      <td>481</td>\n",
       "      <td>53.0</td>\n",
       "      <td>50+</td>\n",
       "      <td>0-1</td>\n",
       "    </tr>\n",
       "  </tbody>\n",
       "</table>\n",
       "<p>480 rows × 4 columns</p>\n",
       "</div>"
      ],
      "text/plain": [
       "     ID_number   age Age Range avg_time_per_day\n",
       "0            1  21.0     18-24              2-3\n",
       "1            2  21.0     18-24               >5\n",
       "2            3  21.0     18-24              3-4\n",
       "3            4  21.0     18-24               >5\n",
       "4            5  21.0     18-24              2-3\n",
       "..         ...   ...       ...              ...\n",
       "476        477  24.0     18-24              2-3\n",
       "477        478  26.0     25-30              1-2\n",
       "478        479  29.0     25-30              2-3\n",
       "479        480  21.0     18-24              2-3\n",
       "480        481  53.0       50+              0-1\n",
       "\n",
       "[480 rows x 4 columns]"
      ]
     },
     "execution_count": 51,
     "metadata": {},
     "output_type": "execute_result"
    }
   ],
   "source": [
    "#create new df for age and time\n",
    "keep_col = [\"ID_number\", \"age\", \"Age Range\", \"avg_time_per_day\"]\n",
    "age_time_df = survey_df[keep_col]\n",
    "age_time_df"
   ]
  },
  {
   "cell_type": "code",
   "execution_count": 21,
   "id": "9faf3a77-68ec-4282-b88b-5d952c60a42e",
   "metadata": {},
   "outputs": [
    {
     "data": {
      "text/html": [
       "<div>\n",
       "<style scoped>\n",
       "    .dataframe tbody tr th:only-of-type {\n",
       "        vertical-align: middle;\n",
       "    }\n",
       "\n",
       "    .dataframe tbody tr th {\n",
       "        vertical-align: top;\n",
       "    }\n",
       "\n",
       "    .dataframe thead th {\n",
       "        text-align: right;\n",
       "    }\n",
       "</style>\n",
       "<table border=\"1\" class=\"dataframe\">\n",
       "  <thead>\n",
       "    <tr style=\"text-align: right;\">\n",
       "      <th>Age Range</th>\n",
       "      <th>&lt;18</th>\n",
       "      <th>18-24</th>\n",
       "      <th>25-30</th>\n",
       "      <th>31-50</th>\n",
       "      <th>50+</th>\n",
       "    </tr>\n",
       "    <tr>\n",
       "      <th>avg_time_per_day</th>\n",
       "      <th></th>\n",
       "      <th></th>\n",
       "      <th></th>\n",
       "      <th></th>\n",
       "      <th></th>\n",
       "    </tr>\n",
       "  </thead>\n",
       "  <tbody>\n",
       "    <tr>\n",
       "      <th>0-1</th>\n",
       "      <td>1</td>\n",
       "      <td>10</td>\n",
       "      <td>3</td>\n",
       "      <td>19</td>\n",
       "      <td>1</td>\n",
       "    </tr>\n",
       "    <tr>\n",
       "      <th>1-2</th>\n",
       "      <td>2</td>\n",
       "      <td>27</td>\n",
       "      <td>11</td>\n",
       "      <td>25</td>\n",
       "      <td>5</td>\n",
       "    </tr>\n",
       "    <tr>\n",
       "      <th>2-3</th>\n",
       "      <td>7</td>\n",
       "      <td>61</td>\n",
       "      <td>13</td>\n",
       "      <td>17</td>\n",
       "      <td>2</td>\n",
       "    </tr>\n",
       "    <tr>\n",
       "      <th>3-4</th>\n",
       "      <td>7</td>\n",
       "      <td>66</td>\n",
       "      <td>10</td>\n",
       "      <td>9</td>\n",
       "      <td>1</td>\n",
       "    </tr>\n",
       "    <tr>\n",
       "      <th>4-5</th>\n",
       "      <td>6</td>\n",
       "      <td>43</td>\n",
       "      <td>13</td>\n",
       "      <td>5</td>\n",
       "      <td>0</td>\n",
       "    </tr>\n",
       "    <tr>\n",
       "      <th>&gt;5</th>\n",
       "      <td>9</td>\n",
       "      <td>89</td>\n",
       "      <td>14</td>\n",
       "      <td>3</td>\n",
       "      <td>1</td>\n",
       "    </tr>\n",
       "  </tbody>\n",
       "</table>\n",
       "</div>"
      ],
      "text/plain": [
       "Age Range         <18  18-24  25-30  31-50  50+\n",
       "avg_time_per_day                               \n",
       "0-1                 1     10      3     19    1\n",
       "1-2                 2     27     11     25    5\n",
       "2-3                 7     61     13     17    2\n",
       "3-4                 7     66     10      9    1\n",
       "4-5                 6     43     13      5    0\n",
       ">5                  9     89     14      3    1"
      ]
     },
     "execution_count": 21,
     "metadata": {},
     "output_type": "execute_result"
    }
   ],
   "source": [
    "#calculate counts of observations for each combination of bins:\n",
    "age_time_combo = pd.crosstab(age_time_df[\"Age Range\"],age_time_df[\"avg_time_per_day\"])\n",
    "#transpose age time combo to get avg time on y-axis when plotting\n",
    "age_time_combo = age_time_combo.T\n",
    "age_time_combo"
   ]
  },
  {
   "cell_type": "code",
   "execution_count": 65,
   "id": "31a5d8bc-77fc-4777-b34f-1d41b349f422",
   "metadata": {},
   "outputs": [
    {
     "data": {
      "image/png": "[encoded data removed]",
      "text/plain": [
       "<Figure size 640x480 with 1 Axes>"
      ]
     },
     "metadata": {},
     "output_type": "display_data"
    }
   ],
   "source": [
    "#create stacked bar chart of avg. time spent on social media by age\n",
    "ax = age_time_combo.plot(kind=\"bar\", stacked = True, color = age_colors)\n",
    "\n",
    "for i in ax.patches:\n",
    "    ax.text(i.get_x() + i.get_width()/2,\n",
    "            i.get_y() + i.get_height()/2,\n",
    "            str(i.get_height()),\n",
    "             fontsize = \"small\",\n",
    "            ha = \"center\", va = \"center\")\n",
    "\n",
    "plt.xlabel(\"Average Time Spent on Social Media (hours)\")\n",
    "plt.ylabel(\"Count by Age Range\")\n",
    "plt.title(\"Count of Average Time Spent on Social Media by Age Range\")\n",
    "plt.savefig(\"output/BH_time_age_bar\")"
   ]
  },
  {
   "cell_type": "code",
   "execution_count": 146,
   "id": "9aa96503-6ca3-41e3-b981-756732271c53",
   "metadata": {
    "tags": []
   },
   "outputs": [
    {
     "data": {
      "text/plain": [
       "['2.94%', '2.86%', '7.0%', '7.53%', '8.96%', '7.76%']"
      ]
     },
     "execution_count": 146,
     "metadata": {},
     "output_type": "execute_result"
    }
   ],
   "source": [
    "percent_list_18under = []\n",
    "percent_list_18to24 = []\n",
    "percent_list_25to30 = []\n",
    "percent_list_31to50 = []\n",
    "percent_list_50plus = []\n",
    "for index, row in age_time_combo.iterrows():\n",
    "    a_under_18 = f\"{round(row[0]/age_time_combo.loc[index].sum(axis=0)*100,2)}%\"\n",
    "    b_18to24 = f\"{round(row[1]/age_time_combo.loc[index].sum(axis=0)*100,2)}%\"\n",
    "    c_25to30 = f\"{round(row[2]/age_time_combo.loc[index].sum(axis=0)*100,2)}%\"\n",
    "    d_31to50 = f\"{round(row[3]/age_time_combo.loc[index].sum(axis=0)*100,2)}%\"\n",
    "    d_50plus = f\"{round(row[4]/age_time_combo.loc[index].sum(axis=0)*100,2)}%\"\n",
    "    percent_list_18under.append(a_under_18)\n",
    "    percent_list_18to24.append(b_18to24)\n",
    "    percent_list_25to30.append(c_25to30)\n",
    "    percent_list_31to50.append(d_31to50)\n",
    "    percent_list_50plus.append(d_50plus)"
   ]
  },
  {
   "cell_type": "code",
   "execution_count": 168,
   "id": "bb8ca0bc-a146-4946-9107-a89021611ecb",
   "metadata": {
    "tags": []
   },
   "outputs": [
    {
     "data": {
      "text/html": [
       "<div>\n",
       "<style scoped>\n",
       "    .dataframe tbody tr th:only-of-type {\n",
       "        vertical-align: middle;\n",
       "    }\n",
       "\n",
       "    .dataframe tbody tr th {\n",
       "        vertical-align: top;\n",
       "    }\n",
       "\n",
       "    .dataframe thead th {\n",
       "        text-align: right;\n",
       "    }\n",
       "</style>\n",
       "<table border=\"1\" class=\"dataframe\">\n",
       "  <thead>\n",
       "    <tr style=\"text-align: right;\">\n",
       "      <th></th>\n",
       "      <th>0</th>\n",
       "      <th>percent of total</th>\n",
       "    </tr>\n",
       "    <tr>\n",
       "      <th>Age Range</th>\n",
       "      <th></th>\n",
       "      <th></th>\n",
       "    </tr>\n",
       "  </thead>\n",
       "  <tbody>\n",
       "    <tr>\n",
       "      <th>&lt;18</th>\n",
       "      <td>32</td>\n",
       "      <td>6.67%</td>\n",
       "    </tr>\n",
       "    <tr>\n",
       "      <th>18-24</th>\n",
       "      <td>296</td>\n",
       "      <td>61.67%</td>\n",
       "    </tr>\n",
       "    <tr>\n",
       "      <th>25-30</th>\n",
       "      <td>64</td>\n",
       "      <td>13.33%</td>\n",
       "    </tr>\n",
       "    <tr>\n",
       "      <th>31-50</th>\n",
       "      <td>78</td>\n",
       "      <td>16.25%</td>\n",
       "    </tr>\n",
       "    <tr>\n",
       "      <th>50+</th>\n",
       "      <td>10</td>\n",
       "      <td>2.08%</td>\n",
       "    </tr>\n",
       "  </tbody>\n",
       "</table>\n",
       "</div>"
      ],
      "text/plain": [
       "             0 percent of total\n",
       "Age Range                      \n",
       "<18         32            6.67%\n",
       "18-24      296           61.67%\n",
       "25-30       64           13.33%\n",
       "31-50       78           16.25%\n",
       "50+         10            2.08%"
      ]
     },
     "execution_count": 168,
     "metadata": {},
     "output_type": "execute_result"
    }
   ],
   "source": [
    "#create list of overall age % represented in dataset\n",
    "agecount_df = pd.DataFrame(survey_df.groupby(\"Age Range\").size())\n",
    "agecount_df[\"percent of total\"]=\"\"\n",
    "agecount_df\n",
    "for index, row in agecount_df.iterrows():\n",
    "    agecount_df.loc[index,\"percent of total\"] = f\"{round((row[0]/len(survey_df))*100,2)}%\"\n",
    "age_percent_list = list(agecount_df[\"percent of total\"])      \n",
    "agecount_df"
   ]
  },
  {
   "cell_type": "code",
   "execution_count": 167,
   "id": "69d6af60-a86e-4948-9811-cdbbcb6cc93e",
   "metadata": {
    "tags": []
   },
   "outputs": [
    {
     "data": {
      "text/plain": [
       "['6.67%', '61.67%', '13.33%', '16.25%', '2.08%']"
      ]
     },
     "execution_count": 167,
     "metadata": {},
     "output_type": "execute_result"
    }
   ],
   "source": [
    "age_percent_list"
   ]
  },
  {
   "cell_type": "code",
   "execution_count": 180,
   "id": "8a36ed51-aa26-4e04-9201-d7c768f12fc6",
   "metadata": {
    "tags": []
   },
   "outputs": [
    {
     "data": {
      "text/html": [
       "<div>\n",
       "<style scoped>\n",
       "    .dataframe tbody tr th:only-of-type {\n",
       "        vertical-align: middle;\n",
       "    }\n",
       "\n",
       "    .dataframe tbody tr th {\n",
       "        vertical-align: top;\n",
       "    }\n",
       "\n",
       "    .dataframe thead th {\n",
       "        text-align: right;\n",
       "    }\n",
       "</style>\n",
       "<table border=\"1\" class=\"dataframe\">\n",
       "  <thead>\n",
       "    <tr style=\"text-align: right;\">\n",
       "      <th></th>\n",
       "      <th>&lt;18</th>\n",
       "      <th>18-24</th>\n",
       "      <th>25-30</th>\n",
       "      <th>31-50</th>\n",
       "      <th>50+</th>\n",
       "    </tr>\n",
       "    <tr>\n",
       "      <th>avg_time_per_day</th>\n",
       "      <th></th>\n",
       "      <th></th>\n",
       "      <th></th>\n",
       "      <th></th>\n",
       "      <th></th>\n",
       "    </tr>\n",
       "  </thead>\n",
       "  <tbody>\n",
       "    <tr>\n",
       "      <th>0-1</th>\n",
       "      <td>2.94%</td>\n",
       "      <td>29.41%</td>\n",
       "      <td>8.82%</td>\n",
       "      <td>55.88%</td>\n",
       "      <td>2.94%</td>\n",
       "    </tr>\n",
       "    <tr>\n",
       "      <th>1-2</th>\n",
       "      <td>2.86%</td>\n",
       "      <td>38.57%</td>\n",
       "      <td>15.71%</td>\n",
       "      <td>35.71%</td>\n",
       "      <td>7.14%</td>\n",
       "    </tr>\n",
       "    <tr>\n",
       "      <th>2-3</th>\n",
       "      <td>7.0%</td>\n",
       "      <td>61.0%</td>\n",
       "      <td>13.0%</td>\n",
       "      <td>17.0%</td>\n",
       "      <td>2.0%</td>\n",
       "    </tr>\n",
       "    <tr>\n",
       "      <th>3-4</th>\n",
       "      <td>7.53%</td>\n",
       "      <td>70.97%</td>\n",
       "      <td>10.75%</td>\n",
       "      <td>9.68%</td>\n",
       "      <td>1.08%</td>\n",
       "    </tr>\n",
       "    <tr>\n",
       "      <th>4-5</th>\n",
       "      <td>8.96%</td>\n",
       "      <td>64.18%</td>\n",
       "      <td>19.4%</td>\n",
       "      <td>7.46%</td>\n",
       "      <td>0.0%</td>\n",
       "    </tr>\n",
       "    <tr>\n",
       "      <th>&gt;5</th>\n",
       "      <td>7.76%</td>\n",
       "      <td>76.72%</td>\n",
       "      <td>12.07%</td>\n",
       "      <td>2.59%</td>\n",
       "      <td>0.86%</td>\n",
       "    </tr>\n",
       "    <tr>\n",
       "      <th>Total % by age in sample</th>\n",
       "      <td>6.67%</td>\n",
       "      <td>61.67%</td>\n",
       "      <td>13.33%</td>\n",
       "      <td>16.25%</td>\n",
       "      <td>2.08%</td>\n",
       "    </tr>\n",
       "  </tbody>\n",
       "</table>\n",
       "</div>"
      ],
      "text/plain": [
       "                            <18   18-24   25-30   31-50    50+\n",
       "avg_time_per_day                                              \n",
       "0-1                       2.94%  29.41%   8.82%  55.88%  2.94%\n",
       "1-2                       2.86%  38.57%  15.71%  35.71%  7.14%\n",
       "2-3                        7.0%   61.0%   13.0%   17.0%   2.0%\n",
       "3-4                       7.53%  70.97%  10.75%   9.68%  1.08%\n",
       "4-5                       8.96%  64.18%   19.4%   7.46%   0.0%\n",
       ">5                        7.76%  76.72%  12.07%   2.59%  0.86%\n",
       "Total % by age in sample  6.67%  61.67%  13.33%  16.25%  2.08%"
      ]
     },
     "execution_count": 180,
     "metadata": {},
     "output_type": "execute_result"
    }
   ],
   "source": [
    "#create dataframe for % of each age range by average time per day to compare to representation of that age range in overall dataset\n",
    "atp_dict = {\"avg_time_per_day\":age_time_combo.index,\n",
    "            \"<18\": percent_list_18under,\n",
    "            \"18-24\": percent_list_18to24,\n",
    "            \"25-30\": percent_list_25to30,\n",
    "            \"31-50\": percent_list_31to50,\n",
    "            \"50+\": percent_list_50plus}\n",
    "atp_df = pd.DataFrame(atp_dict)\n",
    "atp_df.set_index(\"avg_time_per_day\", inplace=True)\n",
    "atp_df.loc[-1]= age_percent_list\n",
    "atp_df.rename(index={-1: 'Total % by age in sample'}, inplace = True)\n",
    "atp_df"
   ]
  },
  {
   "cell_type": "code",
   "execution_count": 115,
   "id": "3e070f88-8ffa-4b27-b1a9-d9143942470e",
   "metadata": {
    "jupyter": {
     "source_hidden": true
    },
    "tags": []
   },
   "outputs": [],
   "source": [
    "age_time_combo\n",
    "age_time_file = age_time_combo.to_csv(\"output/age_time_file.csv\")"
   ]
  },
  {
   "cell_type": "markdown",
   "id": "958113ad-6bfa-42a8-ad40-785061030562",
   "metadata": {},
   "source": [
    "# Count of Avg. Time Spent on SM by Age Range Bar Chart Summary #\n",
    " In the bar chart of avg time spent on social media by age range, 116 out of 480 of the survey participants, or 24%, spent more than 5 hours on social media. This was the highest count of participants out of all time ranges, followed by the 2-3 hour and 3-4 hour ranges at 21% and 19% respectively. The vast majority  (77%) of those that said they spent 5+ hours on social media fell within the 18-24 age range, even though they only represent 62% of the total dataset. "
   ]
  },
  {
   "cell_type": "code",
   "execution_count": 23,
   "id": "3c5ce517-7aa6-4b96-a1d2-41110ae0cd07",
   "metadata": {
    "collapsed": true,
    "jupyter": {
     "outputs_hidden": true,
     "source_hidden": true
    },
    "tags": []
   },
   "outputs": [
    {
     "data": {
      "image/png": "[encoded data removed]",
      "text/plain": [
       "<Figure size 640x480 with 1 Axes>"
      ]
     },
     "metadata": {},
     "output_type": "display_data"
    }
   ],
   "source": [
    "#TBD: is this even useful? box and whiskers of age by social media usage\n",
    "#not used in presentation\n",
    "\n",
    "avg_time_count = age_time_df[\"avg_time_per_day\"].value_counts()\n",
    "avg_time_df=pd.DataFrame(avg_time_count)\n",
    "avg_time_df.sort_index(ascending=False, inplace=True)\n",
    "avg_time_list = list(avg_time_df.index)\n",
    "avg_time_list\n",
    "\n",
    "age_list = []\n",
    "\n",
    "for time in avg_time_list:\n",
    "    #locate the rows which contain student on each time and get age\n",
    "    student_age = age_time_df.loc[age_time_df[\"avg_time_per_day\"] == time, \"age\"]\n",
    "    age_list.append(student_age)\n",
    "                                  \n",
    "    #Determine outliers\n",
    "    quartiles_bytime = age_time_df[\"age\"].quantile([0.25, 0.5, 0.75])\n",
    "    lowerq_bytime = quartiles[0.25]\n",
    "    upperq_bytime = quartiles[0.75]\n",
    "    iqr_bytime = upperq_bytime-lowerq_bytime\n",
    "    lower_bound_bytime = lowerq_bytime - (1.5*iqr_bytime)\n",
    "    upper_bound_bytime = upperq_bytime + (1.5*iqr_bytime)\n",
    "\n",
    "    outliers_bytime = age_time_df[\"age\"].loc[(age_time_df[\"age\"] < lower_bound_bytime) | (age_time_df[\"age\"] > upper_bound_bytime)]\n",
    "\n",
    "flierprops_bytime = dict(marker=\"o\", markerfacecolor = \"red\", markersize = 12)\n",
    "plt.boxplot(age_list, labels = avg_time_list, flierprops = flierprops)\n",
    "plt.show()"
   ]
  },
  {
   "cell_type": "code",
   "execution_count": 24,
   "id": "fd46af19-779d-4665-8efe-ec0097f0cbb1",
   "metadata": {
    "tags": []
   },
   "outputs": [],
   "source": [
    "#create occupation labels\n",
    "occupation = survey_df[\"occupation_status\"].value_counts()\n",
    "occupation_series = pd.Series(occupation)"
   ]
  },
  {
   "cell_type": "code",
   "execution_count": 25,
   "id": "f4b420be-9d39-4180-86ec-2c121f0178f8",
   "metadata": {
    "tags": []
   },
   "outputs": [
    {
     "data": {
      "image/png": "[encoded data removed]",
      "text/plain": [
       "<Figure size 640x480 with 1 Axes>"
      ]
     },
     "metadata": {},
     "output_type": "display_data"
    }
   ],
   "source": [
    "#not used in presentation\n",
    "#create pie chart: occupation summary\n",
    "occupation_series.plot(kind = \"pie\", labels = occupation_series.index, autopct = \"%1.1f%%\", ylabel = \"occupation\")\n",
    "plt.show()"
   ]
  },
  {
   "cell_type": "code",
   "execution_count": null,
   "id": "78678d3c-6131-47c8-addd-2ee048852264",
   "metadata": {
    "tags": []
   },
   "outputs": [],
   "source": [
    "#plot avg. time spent groupby age\n",
    "\n",
    "#time_spent = survey_df.groupby(\"age\")\n",
    "\n",
    "#create age bins\n",
    "age_bins = [0, 18, 24, 30, 50, 92]\n",
    "age_bin_labels = [\"<18\", \"18-24\", \"25-30\", \"31-50\", \"50+\"]\n",
    "\n",
    "# #create dictionary for age_time df\n",
    "# age_time_dict = {\"age_range\":age_bins,\n",
    "#                \"More than 5 hours\":\"\",\n",
    "#                \"Between 4 and 5 hours\":\"\",\n",
    "#                \"Between 3 and 4 hours\":\"\",\n",
    "#                 \"Between 2 and 3 hours\":\"\",\n",
    "#                \"Between 1 and 2 hours\":\"\",\n",
    "#                \"Less than an Hour\":\"\"}\n",
    "# #create dataframe\n",
    "# age_time_df = pd.DataFrame(age_time_dict)\n",
    "               \n",
    "# age_time_df[\"Age Range\"]=pd.cut(survey_df[\"age\"], bins = age_bins, labels=age_labels, include_lowest=True)               \n",
    "# #create labels for time spent"
   ]
  },
  {
   "cell_type": "code",
   "execution_count": null,
   "id": "504730f3-fdfb-44d7-9382-440f6309277a",
   "metadata": {},
   "outputs": [],
   "source": []
  }
 ],
 "metadata": {
  "kernelspec": {
   "display_name": "Python 3 (ipykernel)",
   "language": "python",
   "name": "python3"
  },
  "language_info": {
   "codemirror_mode": {
    "name": "ipython",
    "version": 3
   },
   "file_extension": ".py",
   "mimetype": "text/x-python",
   "name": "python",
   "nbconvert_exporter": "python",
   "pygments_lexer": "ipython3",
   "version": "3.10.13"
  }
 },
 "nbformat": 4,
 "nbformat_minor": 5
}

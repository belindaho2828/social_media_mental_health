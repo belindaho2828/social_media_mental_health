# Import dependencies
import pandas as pd
import numpy as np
import matplotlib.pyplot as plt
from pathlib import Path


# read in csv file
csv_file_path = Path("survey_data.csv")
data = pd.read_csv(csv_file_path)


# Create a dataframe for average time spent on social media
average_time_df = data.groupby('avg_time_per_day').size().reset_index(name='count')

# Examine data and view headers
# average_time_df


# Map the bin labels using a dictionary
average_time_df['avg_time_per_day'] = average_time_df['avg_time_per_day'].replace({
               "Less than an Hour": '0-1',
               "Between 1 and 2 hours": '1-2',
               "Between 2 and 3 hours": '2-3', "Between 3 and 4 hours": '3-4',
               "Between 4 and 5 hours":'4-5', "More than 5 hours": '>5'})

# Reorder the DataFrame based on the 'avg_time_per_day' column
average_time_df = average_time_df.sort_values('avg_time_per_day')

# Reset the index to start from 0
average_time_df = average_time_df.reset_index(drop=True)

# Display the updated DataFrame with mapped bin labels
average_time_df


average_time_df.sort_values('avg_time_per_day')


# Create a histogram showing Average Time Per Day distribution
average_time_df.plot(kind='bar')
plt.xticks(range(len(average_time_df)), average_time_df['avg_time_per_day'], rotation=0)
plt.xlabel("Average Hours Per Day: All Demographics")
plt.tight_layout()
plt.show()


average_time_df.head()


# Create combined scores for depression and anxiety constructs


# Avg time spent on social media vs feelings of depression (groupby male)
depressed_male_df = data[data['gender'] == 'Male']['feel_depressed'].value_counts()
depressed_male_df


#Avg time spent on sm vs feelings of depression (groupby female)



# Are students in 2022 more likely to report feelings of depression than working professionals?


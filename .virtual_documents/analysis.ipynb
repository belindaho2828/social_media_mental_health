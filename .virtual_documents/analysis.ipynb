# Import dependencies
import pandas as pd
import numpy as np
import matplotlib.pyplot as plt
from pathlib import Path


# read in csv file
csv_file_path = Path("survey_data.csv")
data = pd.read_csv(csv_file_path)


# Create a dataframe for average time spent on social media
average_time_df = data.groupby('avg_time_per_day').size()

# Examine data and view headers
average_time_df


# Use a dictionary to rename bin labels with numerals



#Avg time spent on sm vs feelings of depression (groupby male)




#Avg time spent on sm vs feelings of depression (groupby female)



# Are students in 2022 more likely to report feelings of depression than working professionals?


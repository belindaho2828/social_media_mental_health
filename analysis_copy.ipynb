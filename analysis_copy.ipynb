{
 "cells": [
  {
   "cell_type": "code",
   "execution_count": 2,
   "id": "3a025408-3593-41ad-a7f9-4d4f862ed2a0",
   "metadata": {},
   "outputs": [],
   "source": [
    "# Import dependencies\n",
    "import pandas as pd\n",
    "import numpy as np\n",
    "import matplotlib.pyplot as plt\n",
    "from pathlib import Path"
   ]
  },
  {
   "cell_type": "code",
   "execution_count": 3,
   "id": "33de09f3-533b-4aa0-be8a-88952e815aaf",
   "metadata": {},
   "outputs": [],
   "source": [
    "# read in csv file\n",
    "csv_file_path = Path(\"survey_data.csv\")\n",
    "data = pd.read_csv(csv_file_path)"
   ]
  },
  {
   "cell_type": "code",
   "execution_count": 9,
   "id": "1d648390-3c2d-41ea-aca5-38236eaa8274",
   "metadata": {},
   "outputs": [
    {
     "data": {
      "text/plain": [
       "avg_time_per_day\n",
       "Between 1 and 2 hours     70\n",
       "Between 2 and 3 hours    101\n",
       "Between 3 and 4 hours     93\n",
       "Between 4 and 5 hours     67\n",
       "Less than an Hour         34\n",
       "More than 5 hours        116\n",
       "dtype: int64"
      ]
     },
     "execution_count": 9,
     "metadata": {},
     "output_type": "execute_result"
    }
   ],
   "source": [
    "# Create a dataframe for average time spent on social media\n",
    "average_time_df = data.groupby('avg_time_per_day').size()\n",
    "\n",
    "# Examine data and view headers\n",
    "average_time_df"
   ]
  },
  {
   "cell_type": "code",
   "execution_count": null,
   "id": "36dbe5c2-0a68-4e5d-9f06-a6f449819946",
   "metadata": {},
   "outputs": [],
   "source": [
    "# Use a dictionary to rename bin labels with numerals\n"
   ]
  },
  {
   "cell_type": "code",
   "execution_count": null,
   "id": "3d47c794-1932-4934-843f-326fc0d952f1",
   "metadata": {},
   "outputs": [],
   "source": [
    "#Avg time spent on sm vs feelings of depression (groupby male)\n",
    "\n"
   ]
  },
  {
   "cell_type": "code",
   "execution_count": null,
   "id": "fd18de91-3515-4d2e-a2b9-fa6e1a5c83b3",
   "metadata": {},
   "outputs": [],
   "source": [
    "#Avg time spent on sm vs feelings of depression (groupby female)\n"
   ]
  },
  {
   "cell_type": "code",
   "execution_count": null,
   "id": "b2d49bb8-e558-498b-b5a2-978310ddd3cb",
   "metadata": {},
   "outputs": [],
   "source": [
    "# Are students in 2022 more likely to report feelings of depression than working professionals?\n"
   ]
  }
 ],
 "metadata": {
  "kernelspec": {
   "display_name": "Python 3 (ipykernel)",
   "language": "python",
   "name": "python3"
  },
  "language_info": {
   "codemirror_mode": {
    "name": "ipython",
    "version": 3
   },
   "file_extension": ".py",
   "mimetype": "text/x-python",
   "name": "python",
   "nbconvert_exporter": "python",
   "pygments_lexer": "ipython3",
   "version": "3.10.13"
  }
 },
 "nbformat": 4,
 "nbformat_minor": 5
}
